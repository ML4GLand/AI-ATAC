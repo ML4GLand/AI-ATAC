{
 "cells": [
  {
   "attachments": {},
   "cell_type": "markdown",
   "metadata": {},
   "source": [
    "# Set-up"
   ]
  },
  {
   "cell_type": "code",
   "execution_count": 1,
   "metadata": {},
   "outputs": [
    {
     "name": "stderr",
     "output_type": "stream",
     "text": [
      "/cellar/users/aklie/opt/miniconda3/envs/get_data/lib/python3.7/site-packages/ipykernel_launcher.py:2: TqdmWarning: IProgress not found. Please update jupyter and ipywidgets. See https://ipywidgets.readthedocs.io/en/stable/user_install.html\n",
      "  \n"
     ]
    }
   ],
   "source": [
    "import os\n",
    "from tqdm.autonotebook import tqdm\n",
    "from pysradb.sraweb import SRAweb"
   ]
  },
  {
   "cell_type": "code",
   "execution_count": 2,
   "metadata": {},
   "outputs": [],
   "source": [
    "# Choose the current dataset we are working with\n",
    "dataset_name = \"AI-ATAC\"\n",
    "srp_id = \"SRP110978\""
   ]
  },
  {
   "cell_type": "code",
   "execution_count": 3,
   "metadata": {},
   "outputs": [
    {
     "data": {
      "text/plain": [
       "('/cellar/users/aklie/data/datasets',\n",
       " '/cellar/users/aklie/data/datasets/AI-ATAC/bin/data_acquisition',\n",
       " '/cellar/users/aklie/data/datasets/AI-ATAC/fastq/10Nov23',\n",
       " '/cellar/users/aklie/data/datasets/AI-ATAC/metadata/10Nov23')"
      ]
     },
     "execution_count": 3,
     "metadata": {},
     "output_type": "execute_result"
    }
   ],
   "source": [
    "# Set-up directories\n",
    "base_dir = \"/cellar/users/aklie/data/datasets\"\n",
    "cwd = os.path.join(base_dir, dataset_name, \"bin\", \"data_acquisition\")\n",
    "fastq_dir = os.path.join(base_dir,  dataset_name, \"fastq\", \"10Nov23\")\n",
    "metadata_dir = os.path.join(base_dir, dataset_name, \"metadata\", \"10Nov23\")\n",
    "base_dir, cwd, fastq_dir, metadata_dir"
   ]
  },
  {
   "cell_type": "code",
   "execution_count": 4,
   "metadata": {},
   "outputs": [],
   "source": [
    "# If fastq_dir does not exist, create it\n",
    "if not os.path.exists(fastq_dir):\n",
    "    os.makedirs(fastq_dir)\n",
    "\n",
    "# If metadata_dir does not exist, create it\n",
    "if not os.path.exists(metadata_dir):\n",
    "    os.makedirs(metadata_dir)"
   ]
  },
  {
   "cell_type": "code",
   "execution_count": 5,
   "metadata": {},
   "outputs": [],
   "source": [
    "# Connect to SRA\n",
    "db = SRAweb()"
   ]
  },
  {
   "attachments": {},
   "cell_type": "markdown",
   "metadata": {},
   "source": [
    "# Get metadata"
   ]
  },
  {
   "cell_type": "code",
   "execution_count": 6,
   "metadata": {},
   "outputs": [
    {
     "data": {
      "text/html": [
       "<div>\n",
       "<style scoped>\n",
       "    .dataframe tbody tr th:only-of-type {\n",
       "        vertical-align: middle;\n",
       "    }\n",
       "\n",
       "    .dataframe tbody tr th {\n",
       "        vertical-align: top;\n",
       "    }\n",
       "\n",
       "    .dataframe thead th {\n",
       "        text-align: right;\n",
       "    }\n",
       "</style>\n",
       "<table border=\"1\" class=\"dataframe\">\n",
       "  <thead>\n",
       "    <tr style=\"text-align: right;\">\n",
       "      <th></th>\n",
       "      <th>run_accession</th>\n",
       "      <th>study_accession</th>\n",
       "      <th>study_title</th>\n",
       "      <th>experiment_accession</th>\n",
       "      <th>experiment_title</th>\n",
       "      <th>experiment_desc</th>\n",
       "      <th>organism_taxid</th>\n",
       "      <th>organism_name</th>\n",
       "      <th>library_name</th>\n",
       "      <th>library_strategy</th>\n",
       "      <th>...</th>\n",
       "      <th>source_name</th>\n",
       "      <th>strain</th>\n",
       "      <th>genotype</th>\n",
       "      <th>cell type</th>\n",
       "      <th>ena_fastq_http</th>\n",
       "      <th>ena_fastq_http_1</th>\n",
       "      <th>ena_fastq_http_2</th>\n",
       "      <th>ena_fastq_ftp</th>\n",
       "      <th>ena_fastq_ftp_1</th>\n",
       "      <th>ena_fastq_ftp_2</th>\n",
       "    </tr>\n",
       "  </thead>\n",
       "  <tbody>\n",
       "    <tr>\n",
       "      <th>0</th>\n",
       "      <td>SRR5799381</td>\n",
       "      <td>SRP110978</td>\n",
       "      <td>ImmGen ATAC-seq data</td>\n",
       "      <td>SRX2978848</td>\n",
       "      <td>GSM2692169: Ep.MEChi.Th#1; Mus musculus; ATAC-seq</td>\n",
       "      <td>GSM2692169: Ep.MEChi.Th#1; Mus musculus; ATAC-seq</td>\n",
       "      <td>10090</td>\n",
       "      <td>Mus musculus</td>\n",
       "      <td>&lt;NA&gt;</td>\n",
       "      <td>ATAC-seq</td>\n",
       "      <td>...</td>\n",
       "      <td>Thymus</td>\n",
       "      <td>C57BL/6</td>\n",
       "      <td>&lt;NA&gt;</td>\n",
       "      <td>Thymic epithelial Cell</td>\n",
       "      <td>&lt;NA&gt;</td>\n",
       "      <td>http://ftp.sra.ebi.ac.uk/vol1/fastq/SRR579/001...</td>\n",
       "      <td>http://ftp.sra.ebi.ac.uk/vol1/fastq/SRR579/001...</td>\n",
       "      <td>&lt;NA&gt;</td>\n",
       "      <td>era-fasp@fasp.sra.ebi.ac.uk:vol1/fastq/SRR579/...</td>\n",
       "      <td>era-fasp@fasp.sra.ebi.ac.uk:vol1/fastq/SRR579/...</td>\n",
       "    </tr>\n",
       "    <tr>\n",
       "      <th>1</th>\n",
       "      <td>SRR5799382</td>\n",
       "      <td>SRP110978</td>\n",
       "      <td>ImmGen ATAC-seq data</td>\n",
       "      <td>SRX2978849</td>\n",
       "      <td>GSM2692170: Ep.MEChi.Th#2; Mus musculus; ATAC-seq</td>\n",
       "      <td>GSM2692170: Ep.MEChi.Th#2; Mus musculus; ATAC-seq</td>\n",
       "      <td>10090</td>\n",
       "      <td>Mus musculus</td>\n",
       "      <td>&lt;NA&gt;</td>\n",
       "      <td>ATAC-seq</td>\n",
       "      <td>...</td>\n",
       "      <td>Thymus</td>\n",
       "      <td>C57BL/6</td>\n",
       "      <td>&lt;NA&gt;</td>\n",
       "      <td>Thymic epithelial Cell</td>\n",
       "      <td>&lt;NA&gt;</td>\n",
       "      <td>http://ftp.sra.ebi.ac.uk/vol1/fastq/SRR579/002...</td>\n",
       "      <td>http://ftp.sra.ebi.ac.uk/vol1/fastq/SRR579/002...</td>\n",
       "      <td>&lt;NA&gt;</td>\n",
       "      <td>era-fasp@fasp.sra.ebi.ac.uk:vol1/fastq/SRR579/...</td>\n",
       "      <td>era-fasp@fasp.sra.ebi.ac.uk:vol1/fastq/SRR579/...</td>\n",
       "    </tr>\n",
       "    <tr>\n",
       "      <th>2</th>\n",
       "      <td>SRR5799383</td>\n",
       "      <td>SRP110978</td>\n",
       "      <td>ImmGen ATAC-seq data</td>\n",
       "      <td>SRX2978850</td>\n",
       "      <td>GSM2692171: preT.DN1.Th#1; Mus musculus; ATAC-seq</td>\n",
       "      <td>GSM2692171: preT.DN1.Th#1; Mus musculus; ATAC-seq</td>\n",
       "      <td>10090</td>\n",
       "      <td>Mus musculus</td>\n",
       "      <td>&lt;NA&gt;</td>\n",
       "      <td>ATAC-seq</td>\n",
       "      <td>...</td>\n",
       "      <td>Thymus</td>\n",
       "      <td>C57BL/6</td>\n",
       "      <td>&lt;NA&gt;</td>\n",
       "      <td>Double Negative Thymocytes</td>\n",
       "      <td>&lt;NA&gt;</td>\n",
       "      <td>http://ftp.sra.ebi.ac.uk/vol1/fastq/SRR579/003...</td>\n",
       "      <td>http://ftp.sra.ebi.ac.uk/vol1/fastq/SRR579/003...</td>\n",
       "      <td>&lt;NA&gt;</td>\n",
       "      <td>era-fasp@fasp.sra.ebi.ac.uk:vol1/fastq/SRR579/...</td>\n",
       "      <td>era-fasp@fasp.sra.ebi.ac.uk:vol1/fastq/SRR579/...</td>\n",
       "    </tr>\n",
       "    <tr>\n",
       "      <th>3</th>\n",
       "      <td>SRR5799384</td>\n",
       "      <td>SRP110978</td>\n",
       "      <td>ImmGen ATAC-seq data</td>\n",
       "      <td>SRX2978851</td>\n",
       "      <td>GSM2692172: preT.DN1.Th#2; Mus musculus; ATAC-seq</td>\n",
       "      <td>GSM2692172: preT.DN1.Th#2; Mus musculus; ATAC-seq</td>\n",
       "      <td>10090</td>\n",
       "      <td>Mus musculus</td>\n",
       "      <td>&lt;NA&gt;</td>\n",
       "      <td>ATAC-seq</td>\n",
       "      <td>...</td>\n",
       "      <td>Thymus</td>\n",
       "      <td>C57BL/6</td>\n",
       "      <td>&lt;NA&gt;</td>\n",
       "      <td>Double Negative Thymocytes</td>\n",
       "      <td>&lt;NA&gt;</td>\n",
       "      <td>http://ftp.sra.ebi.ac.uk/vol1/fastq/SRR579/004...</td>\n",
       "      <td>http://ftp.sra.ebi.ac.uk/vol1/fastq/SRR579/004...</td>\n",
       "      <td>&lt;NA&gt;</td>\n",
       "      <td>era-fasp@fasp.sra.ebi.ac.uk:vol1/fastq/SRR579/...</td>\n",
       "      <td>era-fasp@fasp.sra.ebi.ac.uk:vol1/fastq/SRR579/...</td>\n",
       "    </tr>\n",
       "    <tr>\n",
       "      <th>4</th>\n",
       "      <td>SRR5799385</td>\n",
       "      <td>SRP110978</td>\n",
       "      <td>ImmGen ATAC-seq data</td>\n",
       "      <td>SRX2978852</td>\n",
       "      <td>GSM2692173: preT.DN2a.Th#1; Mus musculus; ATAC...</td>\n",
       "      <td>GSM2692173: preT.DN2a.Th#1; Mus musculus; ATAC...</td>\n",
       "      <td>10090</td>\n",
       "      <td>Mus musculus</td>\n",
       "      <td>&lt;NA&gt;</td>\n",
       "      <td>ATAC-seq</td>\n",
       "      <td>...</td>\n",
       "      <td>Thymus</td>\n",
       "      <td>C57BL/6</td>\n",
       "      <td>&lt;NA&gt;</td>\n",
       "      <td>Double Negative Thymocytes</td>\n",
       "      <td>&lt;NA&gt;</td>\n",
       "      <td>http://ftp.sra.ebi.ac.uk/vol1/fastq/SRR579/005...</td>\n",
       "      <td>http://ftp.sra.ebi.ac.uk/vol1/fastq/SRR579/005...</td>\n",
       "      <td>&lt;NA&gt;</td>\n",
       "      <td>era-fasp@fasp.sra.ebi.ac.uk:vol1/fastq/SRR579/...</td>\n",
       "      <td>era-fasp@fasp.sra.ebi.ac.uk:vol1/fastq/SRR579/...</td>\n",
       "    </tr>\n",
       "  </tbody>\n",
       "</table>\n",
       "<p>5 rows × 52 columns</p>\n",
       "</div>"
      ],
      "text/plain": [
       "  run_accession study_accession           study_title experiment_accession  \\\n",
       "0    SRR5799381       SRP110978  ImmGen ATAC-seq data           SRX2978848   \n",
       "1    SRR5799382       SRP110978  ImmGen ATAC-seq data           SRX2978849   \n",
       "2    SRR5799383       SRP110978  ImmGen ATAC-seq data           SRX2978850   \n",
       "3    SRR5799384       SRP110978  ImmGen ATAC-seq data           SRX2978851   \n",
       "4    SRR5799385       SRP110978  ImmGen ATAC-seq data           SRX2978852   \n",
       "\n",
       "                                    experiment_title  \\\n",
       "0  GSM2692169: Ep.MEChi.Th#1; Mus musculus; ATAC-seq   \n",
       "1  GSM2692170: Ep.MEChi.Th#2; Mus musculus; ATAC-seq   \n",
       "2  GSM2692171: preT.DN1.Th#1; Mus musculus; ATAC-seq   \n",
       "3  GSM2692172: preT.DN1.Th#2; Mus musculus; ATAC-seq   \n",
       "4  GSM2692173: preT.DN2a.Th#1; Mus musculus; ATAC...   \n",
       "\n",
       "                                     experiment_desc organism_taxid  \\\n",
       "0  GSM2692169: Ep.MEChi.Th#1; Mus musculus; ATAC-seq          10090   \n",
       "1  GSM2692170: Ep.MEChi.Th#2; Mus musculus; ATAC-seq          10090   \n",
       "2  GSM2692171: preT.DN1.Th#1; Mus musculus; ATAC-seq          10090   \n",
       "3  GSM2692172: preT.DN1.Th#2; Mus musculus; ATAC-seq          10090   \n",
       "4  GSM2692173: preT.DN2a.Th#1; Mus musculus; ATAC...          10090   \n",
       "\n",
       "  organism_name library_name library_strategy  ... source_name   strain  \\\n",
       "0  Mus musculus         <NA>         ATAC-seq  ...      Thymus  C57BL/6   \n",
       "1  Mus musculus         <NA>         ATAC-seq  ...      Thymus  C57BL/6   \n",
       "2  Mus musculus         <NA>         ATAC-seq  ...      Thymus  C57BL/6   \n",
       "3  Mus musculus         <NA>         ATAC-seq  ...      Thymus  C57BL/6   \n",
       "4  Mus musculus         <NA>         ATAC-seq  ...      Thymus  C57BL/6   \n",
       "\n",
       "  genotype                   cell type ena_fastq_http  \\\n",
       "0     <NA>      Thymic epithelial Cell           <NA>   \n",
       "1     <NA>      Thymic epithelial Cell           <NA>   \n",
       "2     <NA>  Double Negative Thymocytes           <NA>   \n",
       "3     <NA>  Double Negative Thymocytes           <NA>   \n",
       "4     <NA>  Double Negative Thymocytes           <NA>   \n",
       "\n",
       "                                    ena_fastq_http_1  \\\n",
       "0  http://ftp.sra.ebi.ac.uk/vol1/fastq/SRR579/001...   \n",
       "1  http://ftp.sra.ebi.ac.uk/vol1/fastq/SRR579/002...   \n",
       "2  http://ftp.sra.ebi.ac.uk/vol1/fastq/SRR579/003...   \n",
       "3  http://ftp.sra.ebi.ac.uk/vol1/fastq/SRR579/004...   \n",
       "4  http://ftp.sra.ebi.ac.uk/vol1/fastq/SRR579/005...   \n",
       "\n",
       "                                    ena_fastq_http_2 ena_fastq_ftp  \\\n",
       "0  http://ftp.sra.ebi.ac.uk/vol1/fastq/SRR579/001...          <NA>   \n",
       "1  http://ftp.sra.ebi.ac.uk/vol1/fastq/SRR579/002...          <NA>   \n",
       "2  http://ftp.sra.ebi.ac.uk/vol1/fastq/SRR579/003...          <NA>   \n",
       "3  http://ftp.sra.ebi.ac.uk/vol1/fastq/SRR579/004...          <NA>   \n",
       "4  http://ftp.sra.ebi.ac.uk/vol1/fastq/SRR579/005...          <NA>   \n",
       "\n",
       "                                     ena_fastq_ftp_1  \\\n",
       "0  era-fasp@fasp.sra.ebi.ac.uk:vol1/fastq/SRR579/...   \n",
       "1  era-fasp@fasp.sra.ebi.ac.uk:vol1/fastq/SRR579/...   \n",
       "2  era-fasp@fasp.sra.ebi.ac.uk:vol1/fastq/SRR579/...   \n",
       "3  era-fasp@fasp.sra.ebi.ac.uk:vol1/fastq/SRR579/...   \n",
       "4  era-fasp@fasp.sra.ebi.ac.uk:vol1/fastq/SRR579/...   \n",
       "\n",
       "                                     ena_fastq_ftp_2  \n",
       "0  era-fasp@fasp.sra.ebi.ac.uk:vol1/fastq/SRR579/...  \n",
       "1  era-fasp@fasp.sra.ebi.ac.uk:vol1/fastq/SRR579/...  \n",
       "2  era-fasp@fasp.sra.ebi.ac.uk:vol1/fastq/SRR579/...  \n",
       "3  era-fasp@fasp.sra.ebi.ac.uk:vol1/fastq/SRR579/...  \n",
       "4  era-fasp@fasp.sra.ebi.ac.uk:vol1/fastq/SRR579/...  \n",
       "\n",
       "[5 rows x 52 columns]"
      ]
     },
     "execution_count": 6,
     "metadata": {},
     "output_type": "execute_result"
    }
   ],
   "source": [
    "# Grab the metadata for the SRP\n",
    "metadata = db.sra_metadata(srp_id, detailed=True)\n",
    "metadata.head()"
   ]
  },
  {
   "cell_type": "code",
   "execution_count": 7,
   "metadata": {},
   "outputs": [
    {
     "data": {
      "text/plain": [
       "Index(['run_accession', 'study_accession', 'study_title',\n",
       "       'experiment_accession', 'experiment_title', 'experiment_desc',\n",
       "       'organism_taxid', 'organism_name', 'library_name', 'library_strategy',\n",
       "       'library_source', 'library_selection', 'library_layout',\n",
       "       'sample_accession', 'sample_title', 'instrument', 'instrument_model',\n",
       "       'instrument_model_desc', 'total_spots', 'total_size', 'run_total_spots',\n",
       "       'run_total_bases', 'run_alias', 'public_filename', 'public_url',\n",
       "       'public_size', 'public_date', 'public_md5', 'public_version',\n",
       "       'public_semantic_name', 'public_supertype', 'public_sratoolkit',\n",
       "       'ncbi_url', 'ncbi_free_egress', 'ncbi_access_type', 'aws_url',\n",
       "       'aws_free_egress', 'aws_access_type', 'gcp_url', 'gcp_free_egress',\n",
       "       'gcp_access_type', 'experiment_alias', 'source_name', 'strain',\n",
       "       'genotype', 'cell type', 'ena_fastq_http', 'ena_fastq_http_1',\n",
       "       'ena_fastq_http_2', 'ena_fastq_ftp', 'ena_fastq_ftp_1',\n",
       "       'ena_fastq_ftp_2'],\n",
       "      dtype='object')"
      ]
     },
     "execution_count": 7,
     "metadata": {},
     "output_type": "execute_result"
    }
   ],
   "source": [
    "metadata.columns"
   ]
  },
  {
   "cell_type": "code",
   "execution_count": 9,
   "metadata": {},
   "outputs": [
    {
     "data": {
      "text/html": [
       "<div>\n",
       "<style scoped>\n",
       "    .dataframe tbody tr th:only-of-type {\n",
       "        vertical-align: middle;\n",
       "    }\n",
       "\n",
       "    .dataframe tbody tr th {\n",
       "        vertical-align: top;\n",
       "    }\n",
       "\n",
       "    .dataframe thead th {\n",
       "        text-align: right;\n",
       "    }\n",
       "</style>\n",
       "<table border=\"1\" class=\"dataframe\">\n",
       "  <thead>\n",
       "    <tr style=\"text-align: right;\">\n",
       "      <th></th>\n",
       "      <th>experiment_title</th>\n",
       "      <th>experiment_desc</th>\n",
       "    </tr>\n",
       "  </thead>\n",
       "  <tbody>\n",
       "    <tr>\n",
       "      <th>0</th>\n",
       "      <td>GSM2692169: Ep.MEChi.Th#1; Mus musculus; ATAC-seq</td>\n",
       "      <td>GSM2692169: Ep.MEChi.Th#1; Mus musculus; ATAC-seq</td>\n",
       "    </tr>\n",
       "    <tr>\n",
       "      <th>1</th>\n",
       "      <td>GSM2692170: Ep.MEChi.Th#2; Mus musculus; ATAC-seq</td>\n",
       "      <td>GSM2692170: Ep.MEChi.Th#2; Mus musculus; ATAC-seq</td>\n",
       "    </tr>\n",
       "    <tr>\n",
       "      <th>2</th>\n",
       "      <td>GSM2692171: preT.DN1.Th#1; Mus musculus; ATAC-seq</td>\n",
       "      <td>GSM2692171: preT.DN1.Th#1; Mus musculus; ATAC-seq</td>\n",
       "    </tr>\n",
       "    <tr>\n",
       "      <th>3</th>\n",
       "      <td>GSM2692172: preT.DN1.Th#2; Mus musculus; ATAC-seq</td>\n",
       "      <td>GSM2692172: preT.DN1.Th#2; Mus musculus; ATAC-seq</td>\n",
       "    </tr>\n",
       "    <tr>\n",
       "      <th>4</th>\n",
       "      <td>GSM2692173: preT.DN2a.Th#1; Mus musculus; ATAC...</td>\n",
       "      <td>GSM2692173: preT.DN2a.Th#1; Mus musculus; ATAC...</td>\n",
       "    </tr>\n",
       "  </tbody>\n",
       "</table>\n",
       "</div>"
      ],
      "text/plain": [
       "                                    experiment_title  \\\n",
       "0  GSM2692169: Ep.MEChi.Th#1; Mus musculus; ATAC-seq   \n",
       "1  GSM2692170: Ep.MEChi.Th#2; Mus musculus; ATAC-seq   \n",
       "2  GSM2692171: preT.DN1.Th#1; Mus musculus; ATAC-seq   \n",
       "3  GSM2692172: preT.DN1.Th#2; Mus musculus; ATAC-seq   \n",
       "4  GSM2692173: preT.DN2a.Th#1; Mus musculus; ATAC...   \n",
       "\n",
       "                                     experiment_desc  \n",
       "0  GSM2692169: Ep.MEChi.Th#1; Mus musculus; ATAC-seq  \n",
       "1  GSM2692170: Ep.MEChi.Th#2; Mus musculus; ATAC-seq  \n",
       "2  GSM2692171: preT.DN1.Th#1; Mus musculus; ATAC-seq  \n",
       "3  GSM2692172: preT.DN1.Th#2; Mus musculus; ATAC-seq  \n",
       "4  GSM2692173: preT.DN2a.Th#1; Mus musculus; ATAC...  "
      ]
     },
     "execution_count": 9,
     "metadata": {},
     "output_type": "execute_result"
    }
   ],
   "source": [
    "metadata[['experiment_title', 'experiment_desc']].head()"
   ]
  },
  {
   "cell_type": "code",
   "execution_count": 10,
   "metadata": {},
   "outputs": [],
   "source": [
    "# Save the metadata and the list of srr ids\n",
    "metadata.to_csv(os.path.join(metadata_dir, f\"{srp_id}_metadata.tsv\"), index=False, sep=\"\\t\")\n",
    "metadata[\"run_accession\"].to_csv(os.path.join(metadata_dir, f\"{srp_id}_srr_ids.txt\"), index=False, header=False)"
   ]
  },
  {
   "attachments": {},
   "cell_type": "markdown",
   "metadata": {},
   "source": [
    "# Download non-diabetic samples (`sra` files)"
   ]
  },
  {
   "cell_type": "code",
   "execution_count": 11,
   "metadata": {},
   "outputs": [],
   "source": [
    "#db.download(df=metadata, out_dir=fastq_dir)"
   ]
  },
  {
   "attachments": {},
   "cell_type": "markdown",
   "metadata": {},
   "source": [
    "# Convert to `fastq` files"
   ]
  },
  {
   "cell_type": "code",
   "execution_count": null,
   "metadata": {},
   "outputs": [],
   "source": [
    "import glob\n",
    "import subprocess"
   ]
  },
  {
   "cell_type": "code",
   "execution_count": 64,
   "metadata": {},
   "outputs": [],
   "source": [
    "tmp_dir = \"/cellar/users/aklie/tmp/fastq-dump\"\n",
    "gzip = True\n",
    "split_files = True\n",
    "threads = 4"
   ]
  },
  {
   "cell_type": "code",
   "execution_count": 72,
   "metadata": {},
   "outputs": [
    {
     "name": "stdout",
     "output_type": "stream",
     "text": [
      "parallel-fastq-dump --threads 4 --outdir /cellar/users/aklie/data/igvf/beta_cell_networks/fastq/Wang2023_islet_snATAC-seq/SRP311849/SRX10424698 --split-files --tmpdir /cellar/users/aklie/tmp/fastq-dump --gzip -s /cellar/users/aklie/data/igvf/beta_cell_networks/fastq/Wang2023_islet_snATAC-seq/SRP311849/SRX10424698/SRR14048750.sra\n"
     ]
    }
   ],
   "source": [
    "# Loop through and print out each SRA download file within the subdirectories of the fastq_dir\n",
    "# Run the following command parallel-fastq-dump --threads 4 --outdir . --split-files --tmpdir $tmp_dir --gzip -s SRR14048750.sra\n",
    "for sra_file in glob.glob(os.path.join(fastq_dir, srp_id, \"*\", \"*.sra\")):\n",
    "    sra_dir = os.path.dirname(sra_file)\n",
    "    if gzip:\n",
    "        cmd = f\"parallel-fastq-dump --threads {threads} --outdir {sra_dir} --split-files --tmpdir {tmp_dir} --gzip -s {sra_file}\"\n",
    "    else:\n",
    "        cmd = f\"parallel-fastq-dump --threads {threads} --outdir {sra_dir} --split-files --tmpdir {tmp_dir} -s {sra_file}\"\n",
    "    print(cmd)\n",
    "    \n",
    "    # Check to see if the files have already been downloaded\n",
    "    if len(glob.glob(os.path.join(sra_dir, \"*.fastq*\"))) > 0:\n",
    "        print(f\"Files already downloaded for {sra_dir}\")\n",
    "    else:\n",
    "        subprocess.run(cmd, shell=True)"
   ]
  },
  {
   "cell_type": "code",
   "execution_count": 65,
   "metadata": {},
   "outputs": [
    {
     "name": "stderr",
     "output_type": "stream",
     "text": [
      "100%|██████████| 1/1 [00:00<00:00, 13662.23it/s]\n"
     ]
    }
   ],
   "source": [
    "# Loop through and print out each SRA download file within the subdirectories of the fastq_dir\n",
    "for file in tqdm(os.listdir(fastq_dir)):\n",
    "    if file.endswith(\".sra\"):\n",
    "        file_path = os.path.join(fastq_dir, file)\n",
    "        print(file_path)"
   ]
  },
  {
   "attachments": {},
   "cell_type": "markdown",
   "metadata": {},
   "source": [
    "# DONE!"
   ]
  },
  {
   "attachments": {},
   "cell_type": "markdown",
   "metadata": {},
   "source": [
    "---"
   ]
  }
 ],
 "metadata": {
  "kernelspec": {
   "display_name": "Python 3.7 get_data",
   "language": "python",
   "name": "get_data"
  },
  "orig_nbformat": 4
 },
 "nbformat": 4,
 "nbformat_minor": 2
}
